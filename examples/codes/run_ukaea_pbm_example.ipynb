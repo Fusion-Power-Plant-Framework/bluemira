{
  "cells": [
    {
      "cell_type": "code",
      "metadata": {},
      "source": [
        "import bluemira.codes.ukaea_powerbalance as power_balance\n",
        "from bluemira.base.config import Configuration\n",
        "from bluemira.base.logs import set_log_level\n",
        "from bluemira.codes.ukaea_powerbalance.constants import MODEL_NAME\n",
        "\n",
        "set_log_level(\"DEBUG\", logger_names=[\"PowerBalance\"])"
      ],
      "outputs": [],
      "execution_count": null
    },
    {
      "cell_type": "markdown",
      "metadata": {},
      "source": [
        "# Configure Power Balance Models (UKAEA)\n",
        "Currently BLUEMIRA does not contain any parameters usable by Power Balance\n",
        "instead these are read from PROCESS"
      ]
    },
    {
      "cell_type": "code",
      "metadata": {},
      "source": [
        "param_list = {}\n",
        "params = Configuration(param_list)"
      ],
      "outputs": [],
      "execution_count": null
    },
    {
      "cell_type": "markdown",
      "metadata": {},
      "source": [
        "Some values are not linked into bluemira. These power balance parameters can be set\n",
        "directly in `problem_settings`."
      ]
    },
    {
      "cell_type": "code",
      "metadata": {},
      "source": [
        "problem_settings = {\n",
        "    \"currdrive_eff_model\": 8,\n",
        "    \"structural.Magnets.isMagnetTFSuperconCoil\": 2,\n",
        "    f\"{MODEL_NAME}.CryogenicPower.CD.FBCol_2\": 0.00041,\n",
        "    f\"{MODEL_NAME}.wasteheatpower.wasteHeatCryo.Height\": 3.2,\n",
        "    f\"{MODEL_NAME}.magnetpower.magnetTF.numCoils\": 20,\n",
        "}"
      ],
      "outputs": [],
      "execution_count": null
    },
    {
      "cell_type": "markdown",
      "metadata": {},
      "source": [
        "Finally the `build_config` dictionary collates the configuration settings for\n",
        "the solver."
      ]
    },
    {
      "cell_type": "code",
      "metadata": {},
      "source": [
        "build_config = {\"problem_settings\": problem_settings, \"mode\": \"run\"}"
      ],
      "outputs": [],
      "execution_count": null
    },
    {
      "cell_type": "markdown",
      "metadata": {},
      "source": [
        "Now we can create the solver object with the parameters and build configuration"
      ]
    },
    {
      "cell_type": "code",
      "metadata": {},
      "source": [
        "pbm_solver = power_balance.Solver(params=params, build_config=build_config)"
      ],
      "outputs": [],
      "execution_count": null
    },
    {
      "cell_type": "markdown",
      "metadata": {},
      "source": [
        "### Running the solver\n",
        "Very simply use the `run` method of the solver\n",
        "pbm_solver.run()"
      ]
    }
  ],
  "metadata": {
    "anaconda-cloud": {},
    "kernelspec": {
      "display_name": "Python 3",
      "language": "python",
      "name": "python3"
    },
    "language_info": {
      "codemirror_mode": {
        "name": "ipython",
        "version": 3
      },
      "file_extension": ".py",
      "mimetype": "text/x-python",
      "name": "python",
      "nbconvert_exporter": "python",
      "pygments_lexer": "ipython3",
      "version": "3.8.12"
    }
  },
  "nbformat": 4,
  "nbformat_minor": 4
}
